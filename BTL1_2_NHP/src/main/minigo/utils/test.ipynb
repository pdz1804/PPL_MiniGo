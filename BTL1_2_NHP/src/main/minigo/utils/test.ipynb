{
 "cells": [
  {
   "cell_type": "code",
   "execution_count": 2,
   "metadata": {},
   "outputs": [],
   "source": [
    "from __future__ import annotations\n",
    "from abc import ABC, abstractmethod, ABCMeta\n",
    "from dataclasses import dataclass\n",
    "from typing import List"
   ]
  },
  {
   "cell_type": "code",
   "execution_count": 3,
   "metadata": {},
   "outputs": [],
   "source": [
    "class AST(ABC):\n",
    "    def __eq__(self, other): \n",
    "        return self.__dict__ == other.__dict__\n",
    "\n",
    "    @abstractmethod\n",
    "    def accept(self, v, param):\n",
    "        return v.visit(self, param)\n",
    "\n",
    "class Decl(AST):\n",
    "    __metaclass__ = ABCMeta\n",
    "    pass\n",
    "\n",
    "class Type(AST):\n",
    "    __metaclass__ = ABCMeta\n",
    "    pass\n",
    "\n",
    "class BlockMember(AST):\n",
    "    __metaclass__ = ABCMeta\n",
    "    pass\n",
    "\n",
    "class Stmt(BlockMember):\n",
    "    __metaclass__ = ABCMeta\n",
    "    pass\n",
    "\n",
    "class Expr(Stmt):\n",
    "    __metaclass__ = ABCMeta\n",
    "    pass\n",
    "\n",
    "class LHS(Expr):\n",
    "    __metaclass__ = ABCMeta\n",
    "    pass\n",
    "\n",
    "class Literal(Expr):\n",
    "    __metaclass__ = ABCMeta\n",
    "    pass\n",
    "\n",
    "class PrimLit(Literal):\n",
    "    __metaclass__ = ABCMeta\n",
    "    pass\n",
    "\n",
    "@dataclass\n",
    "class IntLiteral(PrimLit):\n",
    "    value:int\n",
    "\n",
    "    def __str__(self):\n",
    "        return \"IntLiteral(\" + str(self.value) + \")\"\n",
    "\n",
    "    def accept(self, v, param):\n",
    "        return v.visitIntLiteral(self, param)"
   ]
  },
  {
   "cell_type": "code",
   "execution_count": 7,
   "metadata": {},
   "outputs": [],
   "source": [
    "@dataclass\n",
    "class FloatLiteral(PrimLit):\n",
    "    value:float\n",
    "\n",
    "    def __str__(self):\n",
    "        return \"FloatLiteral(\" + str(self.value) + \")\"\n",
    "\n",
    "    def accept(self, v, param):\n",
    "        return v.visitFloatLiteral(self, param)"
   ]
  },
  {
   "cell_type": "code",
   "execution_count": 5,
   "metadata": {},
   "outputs": [
    {
     "name": "stdout",
     "output_type": "stream",
     "text": [
      "IntLiteral(0X123123)\n"
     ]
    }
   ],
   "source": [
    "a = IntLiteral(\"0X123123\")\n",
    "print(str(a))"
   ]
  },
  {
   "cell_type": "code",
   "execution_count": 17,
   "metadata": {},
   "outputs": [
    {
     "name": "stdout",
     "output_type": "stream",
     "text": [
      "IntLiteral(0X123123)\n",
      "IntLiteral(1192227)\n"
     ]
    }
   ],
   "source": [
    "b = IntLiteral(\"0X123123\")\n",
    "print(str(b))\n",
    "\n",
    "b1 = IntLiteral(int(\"0X123123\", base=16))\n",
    "print(str(b1))"
   ]
  },
  {
   "cell_type": "code",
   "execution_count": null,
   "metadata": {},
   "outputs": [
    {
     "name": "stdout",
     "output_type": "stream",
     "text": [
      "IntLiteral(0o123123)\n",
      "IntLiteral(85)\n"
     ]
    }
   ],
   "source": [
    "b = IntLiteral(\"0o123123\")\n",
    "print(str(b))\n",
    "\n",
    "b1 = IntLiteral(int(\"0o123123\", base=8))\n",
    "print(str(b1))"
   ]
  },
  {
   "cell_type": "code",
   "execution_count": 20,
   "metadata": {},
   "outputs": [
    {
     "name": "stdout",
     "output_type": "stream",
     "text": [
      "IntLiteral(0X123123)\n",
      "IntLiteral(1192227)\n"
     ]
    }
   ],
   "source": [
    "b = IntLiteral(\"0X123123\")\n",
    "print(str(b))\n",
    "\n",
    "b1 = IntLiteral(int(\"0X123123\", base=16))\n",
    "print(str(b1))"
   ]
  },
  {
   "cell_type": "code",
   "execution_count": 24,
   "metadata": {},
   "outputs": [
    {
     "name": "stdout",
     "output_type": "stream",
     "text": [
      "FloatLiteral(1.2e5)\n",
      "FloatLiteral(120000.0)\n"
     ]
    }
   ],
   "source": [
    "c = FloatLiteral(\"1.2e5\")\n",
    "print(c)\n",
    "\n",
    "c1 = FloatLiteral(float(\"1.2e5\"))\n",
    "print(str(c1))"
   ]
  }
 ],
 "metadata": {
  "kernelspec": {
   "display_name": "Python 3",
   "language": "python",
   "name": "python3"
  },
  "language_info": {
   "codemirror_mode": {
    "name": "ipython",
    "version": 3
   },
   "file_extension": ".py",
   "mimetype": "text/x-python",
   "name": "python",
   "nbconvert_exporter": "python",
   "pygments_lexer": "ipython3",
   "version": "3.12.6"
  }
 },
 "nbformat": 4,
 "nbformat_minor": 2
}
